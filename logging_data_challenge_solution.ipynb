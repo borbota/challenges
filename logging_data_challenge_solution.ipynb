{
 "cells": [
  {
   "cell_type": "markdown",
   "metadata": {},
   "source": [
    "##  Data analysis task\n",
    "This is an analysis of one-week data exported from an event loggging system. The task description and the dataset is available [here](https://github.com/wikimedia-research/Discovery-Hiring-Analyst-2016). \n",
    "<h></h>\n",
    "Executive summary:\n",
    "* The most frequent action is checkin.\n",
    "* The **activity decreased for the weekend** by two percent in case of all actions.\n",
    "* People actually clicking on the search results (Click Through Rate, CTR) is the least frequent action out of the three actions.\n",
    "* People tended to click on these results more – ie CTR was higher – at the beginning of the week.\n",
    "* **There are differences between members of group A and group B.** Members of group A were more active in clicking on the results – ie their CTR was proportionately higher compared to group B.\n",
    "* Regarding all actions, not only clicking on the results, the number of actions taken by group A and group B seems to change reciprocially. When there is a decrease in the activity of group A, there is an increase of group B; and where there is an increase in the activity of group A, there is a decrease in that of group B.\n",
    "* The proportion of searches that returned no results, ie the zero results rate was highest on March 8 and lowest on March 6.\n",
    "* There is a difference between group A and group B when it comes to the zero results rate too: for March 5 Group B's zero results rate was increasing, while for of group A the same rate was decreasing. Nevertheless, for March 8 both of them were increasing.\n",
    "* Probably there is an error in the database or **bots were on the site** hinted by the fact that someone was checking the 3895<sup>th</sup> result and also that in the third of the cases merely ten seconds passed by between two actions – as if it was a sleeping pattern of a script.\n",
    "* When it comes to session lenghts, there are no major differences between group A and group B.\n",
    "\n",
    "This notebook was created by using Python 3.6.1 :: Anaconda custom (64-bit); Conda version : 4.3.25."
   ]
  },
  {
   "cell_type": "code",
   "execution_count": 1,
   "metadata": {
    "collapsed": true
   },
   "outputs": [],
   "source": [
    "import pandas as pd\n",
    "from matplotlib.pyplot import *\n",
    "import matplotlib.pyplot as plt\n",
    "import matplotlib.dates as mdates\n",
    "%matplotlib inline"
   ]
  },
  {
   "cell_type": "code",
   "execution_count": 2,
   "metadata": {
    "collapsed": true
   },
   "outputs": [],
   "source": [
    "data = pd.read_csv(\"events_log.csv\", sep = \",\", encoding = \"utf-8\")"
   ]
  },
  {
   "cell_type": "code",
   "execution_count": 3,
   "metadata": {},
   "outputs": [
    {
     "data": {
      "text/plain": [
       "True"
      ]
     },
     "execution_count": 3,
     "metadata": {},
     "output_type": "execute_result"
    }
   ],
   "source": [
    "# check for duplicate rows\n",
    "data1 = data.drop_duplicates()\n",
    "len(data) == len(data1)"
   ]
  },
  {
   "cell_type": "code",
   "execution_count": 4,
   "metadata": {
    "collapsed": true
   },
   "outputs": [],
   "source": [
    "data['timestamp'] = data['timestamp'].apply(lambda x: int(x))\n",
    "data[\"date\"] = data[\"timestamp\"].apply(lambda x: pd.to_datetime(str(x), format=\"%Y%m%d%H%M%S\"))\n",
    "data[\"date2\"] = data[\"date\"] # so data[\"date\"] can be index\n",
    "data[\"day\"] = data[\"date2\"].apply(lambda x: x.strftime('%Y-%m-%d'))"
   ]
  },
  {
   "cell_type": "markdown",
   "metadata": {},
   "source": [
    "## 1a) What is the daily overall clickthrough rate?"
   ]
  },
  {
   "cell_type": "code",
   "execution_count": 5,
   "metadata": {
    "collapsed": true
   },
   "outputs": [],
   "source": [
    "df = data.set_index(\"date\")\n",
    "action_by_day = df.groupby(['day', 'action']).size().reset_index()\n",
    "action_by_day.rename(columns={0: 'count'}, inplace=True)\n",
    "action_by_day_pivot = action_by_day.pivot(index='day', columns='action', values='count').reset_index()\n",
    "action_by_day_pivot[\"total_action\"] = action_by_day_pivot[\"checkin\"] + action_by_day_pivot[\"searchResultPage\"] + \\\n",
    "    action_by_day_pivot[\"visitPage\"]\n",
    "action_by_day_pivot[\"CTR\"] = action_by_day_pivot[\"visitPage\"] / action_by_day_pivot[\"total_action\"] * 100"
   ]
  },
  {
   "cell_type": "code",
   "execution_count": 6,
   "metadata": {},
   "outputs": [
    {
     "name": "stderr",
     "output_type": "stream",
     "text": [
      "/home/borbota/anaconda/envs/uab/lib/python3.6/site-packages/pandas/core/indexes/base.py:1743: VisibleDeprecationWarning: using a non-integer number instead of an integer will result in an error in the future\n",
      "  return getitem(key)\n"
     ]
    },
    {
     "data": {
      "image/png": "[encoded data removed]",
      "text/plain": [
       "<matplotlib.figure.Figure at 0x7f068aa8c588>"
      ]
     },
     "metadata": {},
     "output_type": "display_data"
    }
   ],
   "source": [
    "fig, axs = plt.subplots(1,2, figsize=(15, 5))\n",
    "\n",
    "ax = action_by_day_pivot.plot(x=\"day\", y=\"CTR\", kind=\"line\", color = \"red\", ax = axs[0])\n",
    "plt.xticks(rotation='vertical')\n",
    "ax.set_xlabel('')\n",
    "ax.spines['left'].set_visible(False)\n",
    "ax.spines['top'].set_visible(False)\n",
    "ax.spines['right'].set_visible(False)\n",
    "ax.spines['bottom'].set_visible(False)\n",
    "ax.legend(['CTR'], loc='lower left')\n",
    "\n",
    "ax = action_by_day_pivot.plot(x=\"day\", y=\"CTR\", kind=\"line\", color = \"red\", ax = axs[1])\n",
    "plt.xticks(rotation='vertical')\n",
    "ax.set_xlabel('')\n",
    "ax.set_ylim(ymin=0) # providing both plots to highlight differences and also showing the big picture\n",
    "ax.spines['left'].set_visible(False)\n",
    "ax.spines['top'].set_visible(False)\n",
    "ax.spines['right'].set_visible(False)\n",
    "ax.spines['bottom'].set_visible(False)\n",
    "ax.legend(['CTR'], loc='lower left')\n",
    "for ax in fig.axes:\n",
    "    matplotlib.pyplot.sca(ax)\n",
    "    plt.xticks(rotation=90);"
   ]
  },
  {
   "cell_type": "markdown",
   "metadata": {},
   "source": [
    "## 1b) – How does CTR vary between the groups?"
   ]
  },
  {
   "cell_type": "code",
   "execution_count": 7,
   "metadata": {
    "collapsed": true
   },
   "outputs": [],
   "source": [
    "action_by_day_by_group = df.groupby(['day', 'group', 'action']).size().reset_index()\n",
    "action_by_day_by_group.rename(columns={0: 'count'}, inplace=True)\n",
    "\n",
    "#separating the two groups\n",
    "A_action_by_day_by_group = action_by_day_by_group[action_by_day_by_group.group == \"a\"]\n",
    "B_action_by_day_by_group = action_by_day_by_group[action_by_day_by_group.group == \"b\"]"
   ]
  },
  {
   "cell_type": "code",
   "execution_count": 8,
   "metadata": {
    "collapsed": true
   },
   "outputs": [],
   "source": [
    "A_action_by_day_by_group_pivot = A_action_by_day_by_group.pivot(index='day', columns= 'action', values='count').reset_index()\n",
    "A_action_by_day_by_group_pivot[\"total_action\"] = A_action_by_day_by_group_pivot[\"checkin\"] + A_action_by_day_by_group_pivot[\"searchResultPage\"] + \\\n",
    "    A_action_by_day_by_group_pivot[\"visitPage\"]\n",
    "A_action_by_day_by_group_pivot[\"CTR\"] = A_action_by_day_by_group_pivot[\"visitPage\"] / A_action_by_day_by_group_pivot[\"total_action\"] * 100\n",
    "\n",
    "\n",
    "B_action_by_day_by_group_pivot = B_action_by_day_by_group.pivot(index='day', columns= 'action', values='count').reset_index()\n",
    "B_action_by_day_by_group_pivot[\"total_action\"] = B_action_by_day_by_group_pivot[\"checkin\"] + B_action_by_day_by_group_pivot[\"searchResultPage\"] + \\\n",
    "    B_action_by_day_by_group_pivot[\"visitPage\"]\n",
    "B_action_by_day_by_group_pivot[\"CTR\"] = B_action_by_day_by_group_pivot[\"visitPage\"] / B_action_by_day_by_group_pivot[\"total_action\"] * 100\n",
    "\n",
    "\n",
    "merged_groups = pd.merge(A_action_by_day_by_group_pivot, B_action_by_day_by_group_pivot, left_on = \"day\", right_on = \"day\")"
   ]
  },
  {
   "cell_type": "code",
   "execution_count": 9,
   "metadata": {},
   "outputs": [
    {
     "name": "stderr",
     "output_type": "stream",
     "text": [
      "/home/borbota/anaconda/envs/uab/lib/python3.6/site-packages/pandas/core/indexes/base.py:1743: VisibleDeprecationWarning: using a non-integer number instead of an integer will result in an error in the future\n",
      "  return getitem(key)\n"
     ]
    },
    {
     "data": {
      "image/png": "[encoded data removed]",
      "text/plain": [
       "<matplotlib.figure.Figure at 0x7f068aaa9fd0>"
      ]
     },
     "metadata": {},
     "output_type": "display_data"
    }
   ],
   "source": [
    "ax = merged_groups.plot(x=\"day\", y=\"CTR_x\", kind=\"line\")\n",
    "merged_groups.plot(x=\"day\", y=\"CTR_y\", kind=\"line\", ax=ax, figsize=(10,5))\n",
    "plt.xticks(rotation='vertical')\n",
    "ax.set_xlabel('')\n",
    "ax.set_ylim(ymin=0)\n",
    "ax.spines['left'].set_visible(False)\n",
    "ax.spines['top'].set_visible(False)\n",
    "ax.spines['right'].set_visible(False)\n",
    "ax.spines['bottom'].set_visible(False)\n",
    "ax.legend(['A group', 'B group'], loc='lower right');"
   ]
  },
  {
   "cell_type": "markdown",
   "metadata": {
    "collapsed": true
   },
   "source": [
    "## 2) Which actions do people tend to try first? How does it change day-to-day?"
   ]
  },
  {
   "cell_type": "code",
   "execution_count": 10,
   "metadata": {},
   "outputs": [
    {
     "data": {
      "image/png": "[encoded data removed]",
      "text/plain": [
       "<matplotlib.figure.Figure at 0x7f068b86b860>"
      ]
     },
     "metadata": {},
     "output_type": "display_data"
    }
   ],
   "source": [
    "fig, ax = subplots()\n",
    "data.groupby([pd.Grouper(key='date', freq='D'), 'action']).size().unstack().plot(figsize=(15,7), \\\n",
    "     color = ['magenta', 'grey', 'yellow'], linewidth = 2, ax = ax)\n",
    "ax.spines['left'].set_visible(False)\n",
    "ax.spines['top'].set_visible(False)\n",
    "ax.spines['right'].set_visible(False)\n",
    "ax.set_ylim(ymin=0)\n",
    "ax.legend(loc='upper right');"
   ]
  },
  {
   "cell_type": "markdown",
   "metadata": {},
   "source": [
    "## 3a) What is the daily overall zero results rate? "
   ]
  },
  {
   "cell_type": "code",
   "execution_count": 11,
   "metadata": {},
   "outputs": [
    {
     "data": {
      "text/plain": [
       "0"
      ]
     },
     "execution_count": 11,
     "metadata": {},
     "output_type": "execute_result"
    }
   ],
   "source": [
    "search = df[df.action == \"searchResultPage\"]\n",
    "len(search.loc[pd.isnull(search.n_results)]) # check for NaN"
   ]
  },
  {
   "cell_type": "code",
   "execution_count": 12,
   "metadata": {
    "collapsed": true
   },
   "outputs": [],
   "source": [
    "search_0 = search[search.n_results == 0]\n",
    "search_0_byday = search_0.groupby(by=[\"day\", \"session_id\", \"group\"]).size().reset_index()\n",
    "search_0_byday.rename(columns={0: 'count'}, inplace=True)\n",
    "\n",
    "search_not_0 = search[search.n_results != 0]\n",
    "search_not_0_byday = search_not_0.groupby(by=[\"day\", \"session_id\", \"group\"]).size().reset_index()\n",
    "search_not_0_byday.rename(columns={0: 'count'}, inplace=True)"
   ]
  },
  {
   "cell_type": "code",
   "execution_count": 13,
   "metadata": {
    "collapsed": true
   },
   "outputs": [],
   "source": [
    "search_not_0_byday_grouped = search_not_0_byday.groupby(by = [\"day\"])[\"count\"].sum().reset_index()\n",
    "search_0_byday_grouped = search_0_byday.groupby(by = [\"day\"])[\"count\"].sum().reset_index()\n",
    "\n",
    "search_merged = pd.merge(search_0_byday_grouped, search_not_0_byday_grouped, left_on = \"day\" , right_on = \"day\")\n",
    "search_merged.rename(columns={\"count_x\" : \"zero_results\", \"count_y\" : \"non-zero_results\"}, inplace = True)\n",
    "\n",
    "search_merged[\"total\"] = search_merged[\"zero_results\"] + search_merged[\"non-zero_results\"]\n",
    "search_merged[\"zero_results_rate\"] = search_merged[\"zero_results\"] / search_merged[\"total\"] * 100"
   ]
  },
  {
   "cell_type": "code",
   "execution_count": 14,
   "metadata": {},
   "outputs": [
    {
     "name": "stderr",
     "output_type": "stream",
     "text": [
      "/home/borbota/anaconda/envs/uab/lib/python3.6/site-packages/pandas/core/indexes/base.py:1743: VisibleDeprecationWarning: using a non-integer number instead of an integer will result in an error in the future\n",
      "  return getitem(key)\n"
     ]
    },
    {
     "data": {
      "image/png": "[encoded data removed]",
      "text/plain": [
       "<matplotlib.figure.Figure at 0x7f068b73c9b0>"
      ]
     },
     "metadata": {},
     "output_type": "display_data"
    }
   ],
   "source": [
    "fig, axs = plt.subplots(1,2, figsize=(15, 5))\n",
    "\n",
    "ax = search_merged.plot(x=\"day\", y=\"zero_results_rate\", kind=\"line\", color = \"black\", ax=axs[0])\n",
    "plt.xticks(rotation='vertical')\n",
    "ax.set_xlabel('')\n",
    "ax.spines['left'].set_visible(False)\n",
    "ax.spines['top'].set_visible(False)\n",
    "ax.spines['right'].set_visible(False)\n",
    "ax.spines['bottom'].set_visible(False)\n",
    "ax.legend(['zero results rate'], loc='lower left')\n",
    "\n",
    "ax = search_merged.plot(x=\"day\", y=\"zero_results_rate\", kind=\"line\", color = \"black\", ax=axs[1])\n",
    "plt.xticks(rotation='vertical')\n",
    "ax.set_xlabel('')\n",
    "ax.set_ylim(ymin=0)\n",
    "ax.spines['left'].set_visible(False)\n",
    "ax.spines['top'].set_visible(False)\n",
    "ax.spines['right'].set_visible(False)\n",
    "ax.spines['bottom'].set_visible(False)\n",
    "ax.legend(['zero results rate'], loc='lower left')\n",
    "for ax in fig.axes:\n",
    "    matplotlib.pyplot.sca(ax)\n",
    "    plt.xticks(rotation=90);"
   ]
  },
  {
   "cell_type": "markdown",
   "metadata": {},
   "source": [
    "## 3b) How does the zero results rate vary between the groups?"
   ]
  },
  {
   "cell_type": "code",
   "execution_count": 16,
   "metadata": {},
   "outputs": [
    {
     "name": "stderr",
     "output_type": "stream",
     "text": [
      "/home/borbota/anaconda/envs/uab/lib/python3.6/site-packages/pandas/core/frame.py:3027: SettingWithCopyWarning: \n",
      "A value is trying to be set on a copy of a slice from a DataFrame\n",
      "\n",
      "See the caveats in the documentation: http://pandas.pydata.org/pandas-docs/stable/indexing.html#indexing-view-versus-copy\n",
      "  return super(DataFrame, self).rename(**kwargs)\n"
     ]
    }
   ],
   "source": [
    "search_not_0_byday_grouped = search_not_0_byday.groupby(by=[\"day\", \"group\"])[\"count\"].sum().reset_index()\n",
    "search_0_byday_grouped = search_0_byday.groupby(by=[\"day\", \"group\"])[\"count\"].sum().reset_index()\n",
    "\n",
    "search_group_merged = pd.merge(search_0_byday_grouped, search_not_0_byday_grouped, on=['day', 'group'])\n",
    "search_group_merged.rename(columns={\"count_x\":\"zero_results\", \"count_y\" : \"non-zero_results\"}, inplace = True)\n",
    "search_group_merged[\"total\"] = search_group_merged[\"zero_results\"] + search_group_merged[\"non-zero_results\"]\n",
    "search_group_merged[\"zero_results_rate\"] = search_group_merged[\"zero_results\"] / search_group_merged[\"total\"] * 100\n",
    "\n",
    "search_group_merged_a = search_group_merged[search_group_merged.group == \"a\"]\n",
    "search_group_merged_b = search_group_merged[search_group_merged.group == \"b\"]\n",
    "search_group_merged_a.rename(columns={\"zero_results_rate\" : \"a_group\"}, inplace = True)\n",
    "search_group_merged_b.rename(columns={\"zero_results_rate\": \"b_group\"}, inplace = True)\n",
    "search_groups_merged_again= pd.merge(search_group_merged_a, search_group_merged_b, on = \"day\")"
   ]
  },
  {
   "cell_type": "code",
   "execution_count": 17,
   "metadata": {},
   "outputs": [
    {
     "name": "stderr",
     "output_type": "stream",
     "text": [
      "/home/borbota/anaconda/envs/uab/lib/python3.6/site-packages/pandas/core/indexes/base.py:1743: VisibleDeprecationWarning: using a non-integer number instead of an integer will result in an error in the future\n",
      "  return getitem(key)\n"
     ]
    },
    {
     "data": {
      "image/png": "[encoded data removed]",
      "text/plain": [
       "<matplotlib.figure.Figure at 0x7f068b8f3828>"
      ]
     },
     "metadata": {},
     "output_type": "display_data"
    }
   ],
   "source": [
    "fig, axs = plt.subplots(1,2, figsize=(15, 5))\n",
    "\n",
    "ax = search_groups_merged_again.plot(x=\"day\", y=\"a_group\", kind=\"line\", ax = axs[0])\n",
    "search_groups_merged_again.plot(x=\"day\", y=\"b_group\", kind=\"line\", ax=axs[0])\n",
    "plt.xticks(rotation='vertical')\n",
    "ax.set_xlabel('')\n",
    "ax.spines['left'].set_visible(False)\n",
    "ax.spines['top'].set_visible(False)\n",
    "ax.spines['right'].set_visible(False)\n",
    "ax.spines['bottom'].set_visible(False)\n",
    "ax.legend(['A group', 'B group'], loc='lower left')\n",
    "\n",
    "ax = search_groups_merged_again.plot(x=\"day\", y=\"a_group\", kind=\"line\", ax = axs[1])\n",
    "search_groups_merged_again.plot(x=\"day\", y=\"b_group\", kind=\"line\", ax=axs[1])\n",
    "plt.xticks(rotation='vertical')\n",
    "ax.set_xlabel('')\n",
    "ax.set_ylim(ymin=0)\n",
    "ax.spines['left'].set_visible(False)\n",
    "ax.spines['top'].set_visible(False)\n",
    "ax.spines['right'].set_visible(False)\n",
    "ax.spines['bottom'].set_visible(False)\n",
    "ax.legend(['A group', 'B group'], loc='lower left')\n",
    "for ax in fig.axes:\n",
    "    matplotlib.pyplot.sca(ax)\n",
    "    plt.xticks(rotation=90);"
   ]
  },
  {
   "cell_type": "markdown",
   "metadata": {
    "collapsed": true
   },
   "source": [
    "## 4) session length"
   ]
  },
  {
   "cell_type": "code",
   "execution_count": 18,
   "metadata": {
    "collapsed": true
   },
   "outputs": [],
   "source": [
    "# calculate delta\n",
    "df_sorted = df.sort_values([\"session_id\", \"date2\"])\n",
    "df_sorted['delta'] = df_sorted.groupby('session_id')['date2'].diff()\n",
    "\n",
    "# convert delta to seconds\n",
    "df_sorted[\"delta_seconds\"] = df_sorted[\"delta\"].dt.total_seconds()"
   ]
  },
  {
   "cell_type": "code",
   "execution_count": 19,
   "metadata": {},
   "outputs": [
    {
     "data": {
      "image/png": "[encoded data removed]",
      "text/plain": [
       "<matplotlib.figure.Figure at 0x7f068b9cfa58>"
      ]
     },
     "metadata": {},
     "output_type": "display_data"
    }
   ],
   "source": [
    "df_sorted.loc[df_sorted.delta_seconds < 200].plot.scatter('delta_seconds', 'result_position');"
   ]
  },
  {
   "cell_type": "code",
   "execution_count": 20,
   "metadata": {},
   "outputs": [
    {
     "data": {
      "image/png": "[encoded data removed]",
      "text/plain": [
       "<matplotlib.figure.Figure at 0x7f068ad1bcc0>"
      ]
     },
     "metadata": {},
     "output_type": "display_data"
    }
   ],
   "source": [
    "df_sorted['delta_decile'] = pd.qcut(df_sorted['delta_seconds'], 10, labels=False, duplicates = \"drop\")\n",
    "df_sorted['delta_decile'].plot(kind='hist');"
   ]
  },
  {
   "cell_type": "code",
   "execution_count": 22,
   "metadata": {},
   "outputs": [
    {
     "data": {
      "text/html": [
       "<div>\n",
       "<style scoped>\n",
       "    .dataframe tbody tr th:only-of-type {\n",
       "        vertical-align: middle;\n",
       "    }\n",
       "\n",
       "    .dataframe tbody tr th {\n",
       "        vertical-align: top;\n",
       "    }\n",
       "\n",
       "    .dataframe thead th {\n",
       "        text-align: right;\n",
       "    }\n",
       "</style>\n",
       "<table border=\"1\" class=\"dataframe\">\n",
       "  <thead>\n",
       "    <tr style=\"text-align: right;\">\n",
       "      <th></th>\n",
       "      <th>uuid</th>\n",
       "      <th>timestamp</th>\n",
       "      <th>session_id</th>\n",
       "      <th>group</th>\n",
       "      <th>action</th>\n",
       "      <th>checkin</th>\n",
       "      <th>page_id</th>\n",
       "      <th>n_results</th>\n",
       "      <th>result_position</th>\n",
       "      <th>date2</th>\n",
       "      <th>day</th>\n",
       "      <th>delta</th>\n",
       "      <th>delta_seconds</th>\n",
       "      <th>delta_decile</th>\n",
       "    </tr>\n",
       "    <tr>\n",
       "      <th>date</th>\n",
       "      <th></th>\n",
       "      <th></th>\n",
       "      <th></th>\n",
       "      <th></th>\n",
       "      <th></th>\n",
       "      <th></th>\n",
       "      <th></th>\n",
       "      <th></th>\n",
       "      <th></th>\n",
       "      <th></th>\n",
       "      <th></th>\n",
       "      <th></th>\n",
       "      <th></th>\n",
       "      <th></th>\n",
       "    </tr>\n",
       "  </thead>\n",
       "  <tbody>\n",
       "    <tr>\n",
       "      <th>2016-03-06 08:50:34</th>\n",
       "      <td>77520ab2ea325ad48b97867f921ba609</td>\n",
       "      <td>20160306085034</td>\n",
       "      <td>5947cae98d37b6dd</td>\n",
       "      <td>a</td>\n",
       "      <td>visitPage</td>\n",
       "      <td>NaN</td>\n",
       "      <td>4cc2444b7c00d406</td>\n",
       "      <td>NaN</td>\n",
       "      <td>1044.0</td>\n",
       "      <td>2016-03-06 08:50:34</td>\n",
       "      <td>2016-03-06</td>\n",
       "      <td>00:00:48</td>\n",
       "      <td>48.0</td>\n",
       "      <td>4.0</td>\n",
       "    </tr>\n",
       "    <tr>\n",
       "      <th>2016-03-01 17:46:16</th>\n",
       "      <td>bbf03ae8545f5e1288619ce24c59ad9a</td>\n",
       "      <td>20160301174616</td>\n",
       "      <td>5e0036c1b3bcd196</td>\n",
       "      <td>a</td>\n",
       "      <td>visitPage</td>\n",
       "      <td>NaN</td>\n",
       "      <td>f42fae5dbf9c2922</td>\n",
       "      <td>NaN</td>\n",
       "      <td>3895.0</td>\n",
       "      <td>2016-03-01 17:46:16</td>\n",
       "      <td>2016-03-01</td>\n",
       "      <td>00:00:10</td>\n",
       "      <td>10.0</td>\n",
       "      <td>1.0</td>\n",
       "    </tr>\n",
       "    <tr>\n",
       "      <th>2016-03-01 17:46:26</th>\n",
       "      <td>74fc7080d9ec5be4b7ca0c752ab9540b</td>\n",
       "      <td>20160301174626</td>\n",
       "      <td>5e0036c1b3bcd196</td>\n",
       "      <td>a</td>\n",
       "      <td>checkin</td>\n",
       "      <td>10.0</td>\n",
       "      <td>f42fae5dbf9c2922</td>\n",
       "      <td>NaN</td>\n",
       "      <td>3895.0</td>\n",
       "      <td>2016-03-01 17:46:26</td>\n",
       "      <td>2016-03-01</td>\n",
       "      <td>00:00:10</td>\n",
       "      <td>10.0</td>\n",
       "      <td>1.0</td>\n",
       "    </tr>\n",
       "    <tr>\n",
       "      <th>2016-03-01 17:46:36</th>\n",
       "      <td>5a2974bdcc0a534482872cdf7ac99717</td>\n",
       "      <td>20160301174636</td>\n",
       "      <td>5e0036c1b3bcd196</td>\n",
       "      <td>a</td>\n",
       "      <td>checkin</td>\n",
       "      <td>20.0</td>\n",
       "      <td>f42fae5dbf9c2922</td>\n",
       "      <td>NaN</td>\n",
       "      <td>3895.0</td>\n",
       "      <td>2016-03-01 17:46:36</td>\n",
       "      <td>2016-03-01</td>\n",
       "      <td>00:00:10</td>\n",
       "      <td>10.0</td>\n",
       "      <td>1.0</td>\n",
       "    </tr>\n",
       "    <tr>\n",
       "      <th>2016-03-01 17:46:46</th>\n",
       "      <td>6f593178b0505fbb92725e9d0125753c</td>\n",
       "      <td>20160301174646</td>\n",
       "      <td>5e0036c1b3bcd196</td>\n",
       "      <td>a</td>\n",
       "      <td>checkin</td>\n",
       "      <td>30.0</td>\n",
       "      <td>f42fae5dbf9c2922</td>\n",
       "      <td>NaN</td>\n",
       "      <td>3895.0</td>\n",
       "      <td>2016-03-01 17:46:46</td>\n",
       "      <td>2016-03-01</td>\n",
       "      <td>00:00:10</td>\n",
       "      <td>10.0</td>\n",
       "      <td>1.0</td>\n",
       "    </tr>\n",
       "    <tr>\n",
       "      <th>2016-03-01 17:46:56</th>\n",
       "      <td>2317c9db38dd52c7a7badc824b7fe1e4</td>\n",
       "      <td>20160301174656</td>\n",
       "      <td>5e0036c1b3bcd196</td>\n",
       "      <td>a</td>\n",
       "      <td>checkin</td>\n",
       "      <td>40.0</td>\n",
       "      <td>f42fae5dbf9c2922</td>\n",
       "      <td>NaN</td>\n",
       "      <td>3895.0</td>\n",
       "      <td>2016-03-01 17:46:56</td>\n",
       "      <td>2016-03-01</td>\n",
       "      <td>00:00:10</td>\n",
       "      <td>10.0</td>\n",
       "      <td>1.0</td>\n",
       "    </tr>\n",
       "    <tr>\n",
       "      <th>2016-03-01 17:48:03</th>\n",
       "      <td>e545283cb5775a9da827886e8d9acb8f</td>\n",
       "      <td>20160301174803</td>\n",
       "      <td>5e0036c1b3bcd196</td>\n",
       "      <td>a</td>\n",
       "      <td>visitPage</td>\n",
       "      <td>NaN</td>\n",
       "      <td>2c910c78fbc6fd09</td>\n",
       "      <td>NaN</td>\n",
       "      <td>3955.0</td>\n",
       "      <td>2016-03-01 17:48:03</td>\n",
       "      <td>2016-03-01</td>\n",
       "      <td>00:00:18</td>\n",
       "      <td>18.0</td>\n",
       "      <td>3.0</td>\n",
       "    </tr>\n",
       "    <tr>\n",
       "      <th>2016-03-01 17:48:27</th>\n",
       "      <td>570ffbc22bfd5377966e88bf6443f270</td>\n",
       "      <td>20160301174827</td>\n",
       "      <td>5e0036c1b3bcd196</td>\n",
       "      <td>a</td>\n",
       "      <td>visitPage</td>\n",
       "      <td>NaN</td>\n",
       "      <td>4936788d061bba51</td>\n",
       "      <td>NaN</td>\n",
       "      <td>3972.0</td>\n",
       "      <td>2016-03-01 17:48:27</td>\n",
       "      <td>2016-03-01</td>\n",
       "      <td>00:00:13</td>\n",
       "      <td>13.0</td>\n",
       "      <td>2.0</td>\n",
       "    </tr>\n",
       "    <tr>\n",
       "      <th>2016-03-01 17:48:37</th>\n",
       "      <td>1dd5f5318d72535c9465c323771135a5</td>\n",
       "      <td>20160301174837</td>\n",
       "      <td>5e0036c1b3bcd196</td>\n",
       "      <td>a</td>\n",
       "      <td>checkin</td>\n",
       "      <td>10.0</td>\n",
       "      <td>4936788d061bba51</td>\n",
       "      <td>NaN</td>\n",
       "      <td>3972.0</td>\n",
       "      <td>2016-03-01 17:48:37</td>\n",
       "      <td>2016-03-01</td>\n",
       "      <td>00:00:10</td>\n",
       "      <td>10.0</td>\n",
       "      <td>1.0</td>\n",
       "    </tr>\n",
       "    <tr>\n",
       "      <th>2016-03-01 17:48:47</th>\n",
       "      <td>65514b75ba535fb2a9b1f717f524b5ee</td>\n",
       "      <td>20160301174847</td>\n",
       "      <td>5e0036c1b3bcd196</td>\n",
       "      <td>a</td>\n",
       "      <td>checkin</td>\n",
       "      <td>20.0</td>\n",
       "      <td>4936788d061bba51</td>\n",
       "      <td>NaN</td>\n",
       "      <td>3972.0</td>\n",
       "      <td>2016-03-01 17:48:47</td>\n",
       "      <td>2016-03-01</td>\n",
       "      <td>00:00:10</td>\n",
       "      <td>10.0</td>\n",
       "      <td>1.0</td>\n",
       "    </tr>\n",
       "    <tr>\n",
       "      <th>2016-03-01 17:48:57</th>\n",
       "      <td>6ade2aec4f505b21bc7e8f55dce220f3</td>\n",
       "      <td>20160301174857</td>\n",
       "      <td>5e0036c1b3bcd196</td>\n",
       "      <td>a</td>\n",
       "      <td>checkin</td>\n",
       "      <td>30.0</td>\n",
       "      <td>4936788d061bba51</td>\n",
       "      <td>NaN</td>\n",
       "      <td>3972.0</td>\n",
       "      <td>2016-03-01 17:48:57</td>\n",
       "      <td>2016-03-01</td>\n",
       "      <td>00:00:10</td>\n",
       "      <td>10.0</td>\n",
       "      <td>1.0</td>\n",
       "    </tr>\n",
       "    <tr>\n",
       "      <th>2016-03-01 17:49:07</th>\n",
       "      <td>4b3c17c758ee5310af8ddd3ca8ce2f36</td>\n",
       "      <td>20160301174907</td>\n",
       "      <td>5e0036c1b3bcd196</td>\n",
       "      <td>a</td>\n",
       "      <td>checkin</td>\n",
       "      <td>40.0</td>\n",
       "      <td>4936788d061bba51</td>\n",
       "      <td>NaN</td>\n",
       "      <td>3972.0</td>\n",
       "      <td>2016-03-01 17:49:07</td>\n",
       "      <td>2016-03-01</td>\n",
       "      <td>00:00:10</td>\n",
       "      <td>10.0</td>\n",
       "      <td>1.0</td>\n",
       "    </tr>\n",
       "    <tr>\n",
       "      <th>2016-03-01 17:49:17</th>\n",
       "      <td>136e7f6bbc765236932bd6353b5a71f3</td>\n",
       "      <td>20160301174917</td>\n",
       "      <td>5e0036c1b3bcd196</td>\n",
       "      <td>a</td>\n",
       "      <td>checkin</td>\n",
       "      <td>50.0</td>\n",
       "      <td>4936788d061bba51</td>\n",
       "      <td>NaN</td>\n",
       "      <td>3972.0</td>\n",
       "      <td>2016-03-01 17:49:17</td>\n",
       "      <td>2016-03-01</td>\n",
       "      <td>00:00:10</td>\n",
       "      <td>10.0</td>\n",
       "      <td>1.0</td>\n",
       "    </tr>\n",
       "    <tr>\n",
       "      <th>2016-03-01 17:49:27</th>\n",
       "      <td>e0561c87208150f5ad212a7181eb06b6</td>\n",
       "      <td>20160301174927</td>\n",
       "      <td>5e0036c1b3bcd196</td>\n",
       "      <td>a</td>\n",
       "      <td>checkin</td>\n",
       "      <td>60.0</td>\n",
       "      <td>4936788d061bba51</td>\n",
       "      <td>NaN</td>\n",
       "      <td>3972.0</td>\n",
       "      <td>2016-03-01 17:49:27</td>\n",
       "      <td>2016-03-01</td>\n",
       "      <td>00:00:10</td>\n",
       "      <td>10.0</td>\n",
       "      <td>1.0</td>\n",
       "    </tr>\n",
       "    <tr>\n",
       "      <th>2016-03-01 17:59:31</th>\n",
       "      <td>36287125d7d45978a9830ce8aac604d4</td>\n",
       "      <td>20160301175931</td>\n",
       "      <td>5e0036c1b3bcd196</td>\n",
       "      <td>a</td>\n",
       "      <td>visitPage</td>\n",
       "      <td>NaN</td>\n",
       "      <td>acab1dfd102a6c44</td>\n",
       "      <td>NaN</td>\n",
       "      <td>4087.0</td>\n",
       "      <td>2016-03-01 17:59:31</td>\n",
       "      <td>2016-03-01</td>\n",
       "      <td>00:00:10</td>\n",
       "      <td>10.0</td>\n",
       "      <td>1.0</td>\n",
       "    </tr>\n",
       "    <tr>\n",
       "      <th>2016-03-01 17:59:41</th>\n",
       "      <td>2c36d6934e4254159393c8c78171e6b4</td>\n",
       "      <td>20160301175941</td>\n",
       "      <td>5e0036c1b3bcd196</td>\n",
       "      <td>a</td>\n",
       "      <td>checkin</td>\n",
       "      <td>10.0</td>\n",
       "      <td>acab1dfd102a6c44</td>\n",
       "      <td>NaN</td>\n",
       "      <td>4087.0</td>\n",
       "      <td>2016-03-01 17:59:41</td>\n",
       "      <td>2016-03-01</td>\n",
       "      <td>00:00:10</td>\n",
       "      <td>10.0</td>\n",
       "      <td>1.0</td>\n",
       "    </tr>\n",
       "    <tr>\n",
       "      <th>2016-03-01 17:59:51</th>\n",
       "      <td>196337ab5d41551d87231de1c8847173</td>\n",
       "      <td>20160301175951</td>\n",
       "      <td>5e0036c1b3bcd196</td>\n",
       "      <td>a</td>\n",
       "      <td>checkin</td>\n",
       "      <td>20.0</td>\n",
       "      <td>acab1dfd102a6c44</td>\n",
       "      <td>NaN</td>\n",
       "      <td>4087.0</td>\n",
       "      <td>2016-03-01 17:59:51</td>\n",
       "      <td>2016-03-01</td>\n",
       "      <td>00:00:10</td>\n",
       "      <td>10.0</td>\n",
       "      <td>1.0</td>\n",
       "    </tr>\n",
       "    <tr>\n",
       "      <th>2016-03-01 18:00:01</th>\n",
       "      <td>e3c19cc95a5257f98860b176d985ac9a</td>\n",
       "      <td>20160301180001</td>\n",
       "      <td>5e0036c1b3bcd196</td>\n",
       "      <td>a</td>\n",
       "      <td>checkin</td>\n",
       "      <td>30.0</td>\n",
       "      <td>acab1dfd102a6c44</td>\n",
       "      <td>NaN</td>\n",
       "      <td>4087.0</td>\n",
       "      <td>2016-03-01 18:00:01</td>\n",
       "      <td>2016-03-01</td>\n",
       "      <td>00:00:10</td>\n",
       "      <td>10.0</td>\n",
       "      <td>1.0</td>\n",
       "    </tr>\n",
       "    <tr>\n",
       "      <th>2016-03-01 18:00:11</th>\n",
       "      <td>032eabad77ef59cd8ca53c8510ceeb26</td>\n",
       "      <td>20160301180011</td>\n",
       "      <td>5e0036c1b3bcd196</td>\n",
       "      <td>a</td>\n",
       "      <td>checkin</td>\n",
       "      <td>40.0</td>\n",
       "      <td>acab1dfd102a6c44</td>\n",
       "      <td>NaN</td>\n",
       "      <td>4087.0</td>\n",
       "      <td>2016-03-01 18:00:11</td>\n",
       "      <td>2016-03-01</td>\n",
       "      <td>00:00:10</td>\n",
       "      <td>10.0</td>\n",
       "      <td>1.0</td>\n",
       "    </tr>\n",
       "    <tr>\n",
       "      <th>2016-03-01 18:00:21</th>\n",
       "      <td>0ce554fa3e0b5426990f6f0680cca4ee</td>\n",
       "      <td>20160301180021</td>\n",
       "      <td>5e0036c1b3bcd196</td>\n",
       "      <td>a</td>\n",
       "      <td>checkin</td>\n",
       "      <td>50.0</td>\n",
       "      <td>acab1dfd102a6c44</td>\n",
       "      <td>NaN</td>\n",
       "      <td>4087.0</td>\n",
       "      <td>2016-03-01 18:00:21</td>\n",
       "      <td>2016-03-01</td>\n",
       "      <td>00:00:10</td>\n",
       "      <td>10.0</td>\n",
       "      <td>1.0</td>\n",
       "    </tr>\n",
       "    <tr>\n",
       "      <th>2016-03-01 18:00:47</th>\n",
       "      <td>546934659b5554c7ae1db0fbfe1cbe8d</td>\n",
       "      <td>20160301180047</td>\n",
       "      <td>5e0036c1b3bcd196</td>\n",
       "      <td>a</td>\n",
       "      <td>visitPage</td>\n",
       "      <td>NaN</td>\n",
       "      <td>b30967b871d39c06</td>\n",
       "      <td>NaN</td>\n",
       "      <td>4103.0</td>\n",
       "      <td>2016-03-01 18:00:47</td>\n",
       "      <td>2016-03-01</td>\n",
       "      <td>00:00:11</td>\n",
       "      <td>11.0</td>\n",
       "      <td>2.0</td>\n",
       "    </tr>\n",
       "  </tbody>\n",
       "</table>\n",
       "</div>"
      ],
      "text/plain": [
       "                                                 uuid       timestamp  \\\n",
       "date                                                                    \n",
       "2016-03-06 08:50:34  77520ab2ea325ad48b97867f921ba609  20160306085034   \n",
       "2016-03-01 17:46:16  bbf03ae8545f5e1288619ce24c59ad9a  20160301174616   \n",
       "2016-03-01 17:46:26  74fc7080d9ec5be4b7ca0c752ab9540b  20160301174626   \n",
       "2016-03-01 17:46:36  5a2974bdcc0a534482872cdf7ac99717  20160301174636   \n",
       "2016-03-01 17:46:46  6f593178b0505fbb92725e9d0125753c  20160301174646   \n",
       "2016-03-01 17:46:56  2317c9db38dd52c7a7badc824b7fe1e4  20160301174656   \n",
       "2016-03-01 17:48:03  e545283cb5775a9da827886e8d9acb8f  20160301174803   \n",
       "2016-03-01 17:48:27  570ffbc22bfd5377966e88bf6443f270  20160301174827   \n",
       "2016-03-01 17:48:37  1dd5f5318d72535c9465c323771135a5  20160301174837   \n",
       "2016-03-01 17:48:47  65514b75ba535fb2a9b1f717f524b5ee  20160301174847   \n",
       "2016-03-01 17:48:57  6ade2aec4f505b21bc7e8f55dce220f3  20160301174857   \n",
       "2016-03-01 17:49:07  4b3c17c758ee5310af8ddd3ca8ce2f36  20160301174907   \n",
       "2016-03-01 17:49:17  136e7f6bbc765236932bd6353b5a71f3  20160301174917   \n",
       "2016-03-01 17:49:27  e0561c87208150f5ad212a7181eb06b6  20160301174927   \n",
       "2016-03-01 17:59:31  36287125d7d45978a9830ce8aac604d4  20160301175931   \n",
       "2016-03-01 17:59:41  2c36d6934e4254159393c8c78171e6b4  20160301175941   \n",
       "2016-03-01 17:59:51  196337ab5d41551d87231de1c8847173  20160301175951   \n",
       "2016-03-01 18:00:01  e3c19cc95a5257f98860b176d985ac9a  20160301180001   \n",
       "2016-03-01 18:00:11  032eabad77ef59cd8ca53c8510ceeb26  20160301180011   \n",
       "2016-03-01 18:00:21  0ce554fa3e0b5426990f6f0680cca4ee  20160301180021   \n",
       "2016-03-01 18:00:47  546934659b5554c7ae1db0fbfe1cbe8d  20160301180047   \n",
       "\n",
       "                           session_id group     action  checkin  \\\n",
       "date                                                              \n",
       "2016-03-06 08:50:34  5947cae98d37b6dd     a  visitPage      NaN   \n",
       "2016-03-01 17:46:16  5e0036c1b3bcd196     a  visitPage      NaN   \n",
       "2016-03-01 17:46:26  5e0036c1b3bcd196     a    checkin     10.0   \n",
       "2016-03-01 17:46:36  5e0036c1b3bcd196     a    checkin     20.0   \n",
       "2016-03-01 17:46:46  5e0036c1b3bcd196     a    checkin     30.0   \n",
       "2016-03-01 17:46:56  5e0036c1b3bcd196     a    checkin     40.0   \n",
       "2016-03-01 17:48:03  5e0036c1b3bcd196     a  visitPage      NaN   \n",
       "2016-03-01 17:48:27  5e0036c1b3bcd196     a  visitPage      NaN   \n",
       "2016-03-01 17:48:37  5e0036c1b3bcd196     a    checkin     10.0   \n",
       "2016-03-01 17:48:47  5e0036c1b3bcd196     a    checkin     20.0   \n",
       "2016-03-01 17:48:57  5e0036c1b3bcd196     a    checkin     30.0   \n",
       "2016-03-01 17:49:07  5e0036c1b3bcd196     a    checkin     40.0   \n",
       "2016-03-01 17:49:17  5e0036c1b3bcd196     a    checkin     50.0   \n",
       "2016-03-01 17:49:27  5e0036c1b3bcd196     a    checkin     60.0   \n",
       "2016-03-01 17:59:31  5e0036c1b3bcd196     a  visitPage      NaN   \n",
       "2016-03-01 17:59:41  5e0036c1b3bcd196     a    checkin     10.0   \n",
       "2016-03-01 17:59:51  5e0036c1b3bcd196     a    checkin     20.0   \n",
       "2016-03-01 18:00:01  5e0036c1b3bcd196     a    checkin     30.0   \n",
       "2016-03-01 18:00:11  5e0036c1b3bcd196     a    checkin     40.0   \n",
       "2016-03-01 18:00:21  5e0036c1b3bcd196     a    checkin     50.0   \n",
       "2016-03-01 18:00:47  5e0036c1b3bcd196     a  visitPage      NaN   \n",
       "\n",
       "                              page_id  n_results  result_position  \\\n",
       "date                                                                \n",
       "2016-03-06 08:50:34  4cc2444b7c00d406        NaN           1044.0   \n",
       "2016-03-01 17:46:16  f42fae5dbf9c2922        NaN           3895.0   \n",
       "2016-03-01 17:46:26  f42fae5dbf9c2922        NaN           3895.0   \n",
       "2016-03-01 17:46:36  f42fae5dbf9c2922        NaN           3895.0   \n",
       "2016-03-01 17:46:46  f42fae5dbf9c2922        NaN           3895.0   \n",
       "2016-03-01 17:46:56  f42fae5dbf9c2922        NaN           3895.0   \n",
       "2016-03-01 17:48:03  2c910c78fbc6fd09        NaN           3955.0   \n",
       "2016-03-01 17:48:27  4936788d061bba51        NaN           3972.0   \n",
       "2016-03-01 17:48:37  4936788d061bba51        NaN           3972.0   \n",
       "2016-03-01 17:48:47  4936788d061bba51        NaN           3972.0   \n",
       "2016-03-01 17:48:57  4936788d061bba51        NaN           3972.0   \n",
       "2016-03-01 17:49:07  4936788d061bba51        NaN           3972.0   \n",
       "2016-03-01 17:49:17  4936788d061bba51        NaN           3972.0   \n",
       "2016-03-01 17:49:27  4936788d061bba51        NaN           3972.0   \n",
       "2016-03-01 17:59:31  acab1dfd102a6c44        NaN           4087.0   \n",
       "2016-03-01 17:59:41  acab1dfd102a6c44        NaN           4087.0   \n",
       "2016-03-01 17:59:51  acab1dfd102a6c44        NaN           4087.0   \n",
       "2016-03-01 18:00:01  acab1dfd102a6c44        NaN           4087.0   \n",
       "2016-03-01 18:00:11  acab1dfd102a6c44        NaN           4087.0   \n",
       "2016-03-01 18:00:21  acab1dfd102a6c44        NaN           4087.0   \n",
       "2016-03-01 18:00:47  b30967b871d39c06        NaN           4103.0   \n",
       "\n",
       "                                  date2         day    delta  delta_seconds  \\\n",
       "date                                                                          \n",
       "2016-03-06 08:50:34 2016-03-06 08:50:34  2016-03-06 00:00:48           48.0   \n",
       "2016-03-01 17:46:16 2016-03-01 17:46:16  2016-03-01 00:00:10           10.0   \n",
       "2016-03-01 17:46:26 2016-03-01 17:46:26  2016-03-01 00:00:10           10.0   \n",
       "2016-03-01 17:46:36 2016-03-01 17:46:36  2016-03-01 00:00:10           10.0   \n",
       "2016-03-01 17:46:46 2016-03-01 17:46:46  2016-03-01 00:00:10           10.0   \n",
       "2016-03-01 17:46:56 2016-03-01 17:46:56  2016-03-01 00:00:10           10.0   \n",
       "2016-03-01 17:48:03 2016-03-01 17:48:03  2016-03-01 00:00:18           18.0   \n",
       "2016-03-01 17:48:27 2016-03-01 17:48:27  2016-03-01 00:00:13           13.0   \n",
       "2016-03-01 17:48:37 2016-03-01 17:48:37  2016-03-01 00:00:10           10.0   \n",
       "2016-03-01 17:48:47 2016-03-01 17:48:47  2016-03-01 00:00:10           10.0   \n",
       "2016-03-01 17:48:57 2016-03-01 17:48:57  2016-03-01 00:00:10           10.0   \n",
       "2016-03-01 17:49:07 2016-03-01 17:49:07  2016-03-01 00:00:10           10.0   \n",
       "2016-03-01 17:49:17 2016-03-01 17:49:17  2016-03-01 00:00:10           10.0   \n",
       "2016-03-01 17:49:27 2016-03-01 17:49:27  2016-03-01 00:00:10           10.0   \n",
       "2016-03-01 17:59:31 2016-03-01 17:59:31  2016-03-01 00:00:10           10.0   \n",
       "2016-03-01 17:59:41 2016-03-01 17:59:41  2016-03-01 00:00:10           10.0   \n",
       "2016-03-01 17:59:51 2016-03-01 17:59:51  2016-03-01 00:00:10           10.0   \n",
       "2016-03-01 18:00:01 2016-03-01 18:00:01  2016-03-01 00:00:10           10.0   \n",
       "2016-03-01 18:00:11 2016-03-01 18:00:11  2016-03-01 00:00:10           10.0   \n",
       "2016-03-01 18:00:21 2016-03-01 18:00:21  2016-03-01 00:00:10           10.0   \n",
       "2016-03-01 18:00:47 2016-03-01 18:00:47  2016-03-01 00:00:11           11.0   \n",
       "\n",
       "                     delta_decile  \n",
       "date                               \n",
       "2016-03-06 08:50:34           4.0  \n",
       "2016-03-01 17:46:16           1.0  \n",
       "2016-03-01 17:46:26           1.0  \n",
       "2016-03-01 17:46:36           1.0  \n",
       "2016-03-01 17:46:46           1.0  \n",
       "2016-03-01 17:46:56           1.0  \n",
       "2016-03-01 17:48:03           3.0  \n",
       "2016-03-01 17:48:27           2.0  \n",
       "2016-03-01 17:48:37           1.0  \n",
       "2016-03-01 17:48:47           1.0  \n",
       "2016-03-01 17:48:57           1.0  \n",
       "2016-03-01 17:49:07           1.0  \n",
       "2016-03-01 17:49:17           1.0  \n",
       "2016-03-01 17:49:27           1.0  \n",
       "2016-03-01 17:59:31           1.0  \n",
       "2016-03-01 17:59:41           1.0  \n",
       "2016-03-01 17:59:51           1.0  \n",
       "2016-03-01 18:00:01           1.0  \n",
       "2016-03-01 18:00:11           1.0  \n",
       "2016-03-01 18:00:21           1.0  \n",
       "2016-03-01 18:00:47           2.0  "
      ]
     },
     "execution_count": 22,
     "metadata": {},
     "output_type": "execute_result"
    }
   ],
   "source": [
    "# probably it is a mistake or bots were wisiting the site, or who picks the 3895th result?\n",
    "df_sorted.loc[(df_sorted[\"result_position\"] > 1000)]"
   ]
  },
  {
   "cell_type": "code",
   "execution_count": 23,
   "metadata": {},
   "outputs": [
    {
     "data": {
      "text/plain": [
       "count    332137.000000\n",
       "mean         31.446247\n",
       "std         646.523523\n",
       "min           0.000000\n",
       "25%          10.000000\n",
       "50%          10.000000\n",
       "75%          30.000000\n",
       "max      239924.000000\n",
       "Name: delta_seconds, dtype: float64"
      ]
     },
     "execution_count": 23,
     "metadata": {},
     "output_type": "execute_result"
    }
   ],
   "source": [
    "df_sorted[\"delta_seconds\"].describe()"
   ]
  },
  {
   "cell_type": "code",
   "execution_count": 24,
   "metadata": {},
   "outputs": [
    {
     "data": {
      "image/png": "[encoded data removed]",
      "text/plain": [
       "<matplotlib.figure.Figure at 0x7f068acb5a58>"
      ]
     },
     "metadata": {},
     "output_type": "display_data"
    }
   ],
   "source": [
    "df_sorted.loc[(df_sorted[\"delta_seconds\"] < 40)][\"delta_seconds\"].hist(bins=20, grid = False, figsize = (10, 5));"
   ]
  },
  {
   "cell_type": "code",
   "execution_count": 40,
   "metadata": {},
   "outputs": [
    {
     "data": {
      "image/png": "[encoded data removed]",
      "text/plain": [
       "<matplotlib.figure.Figure at 0x7f068a99de80>"
      ]
     },
     "metadata": {},
     "output_type": "display_data"
    }
   ],
   "source": [
    "df_sorted_group_seconds = df_sorted.groupby(by=[\"day\", \"group\"])[\"delta_seconds\"].mean().reset_index()\n",
    "\n",
    "df_sorted_group_seconds.pivot(index='day', columns='group', values='delta_seconds').plot(kind='bar')\n",
    "\n",
    "plt.axhline(df_sorted_group_seconds[\"delta_seconds\"].mean(), color = \"black\", linestyle=\"dashed\");"
   ]
  },
  {
   "cell_type": "code",
   "execution_count": 41,
   "metadata": {},
   "outputs": [
    {
     "data": {
      "text/html": [
       "<div>\n",
       "<style scoped>\n",
       "    .dataframe tbody tr th:only-of-type {\n",
       "        vertical-align: middle;\n",
       "    }\n",
       "\n",
       "    .dataframe tbody tr th {\n",
       "        vertical-align: top;\n",
       "    }\n",
       "\n",
       "    .dataframe thead th {\n",
       "        text-align: right;\n",
       "    }\n",
       "</style>\n",
       "<table border=\"1\" class=\"dataframe\">\n",
       "  <thead>\n",
       "    <tr style=\"text-align: right;\">\n",
       "      <th></th>\n",
       "      <th>action</th>\n",
       "      <th>group</th>\n",
       "      <th>n_results</th>\n",
       "      <th>result_position</th>\n",
       "      <th>delta_seconds</th>\n",
       "    </tr>\n",
       "  </thead>\n",
       "  <tbody>\n",
       "    <tr>\n",
       "      <th>0</th>\n",
       "      <td>checkin</td>\n",
       "      <td>a</td>\n",
       "      <td>NaN</td>\n",
       "      <td>3.108520</td>\n",
       "      <td>25.780375</td>\n",
       "    </tr>\n",
       "    <tr>\n",
       "      <th>1</th>\n",
       "      <td>checkin</td>\n",
       "      <td>b</td>\n",
       "      <td>NaN</td>\n",
       "      <td>1.934195</td>\n",
       "      <td>31.420407</td>\n",
       "    </tr>\n",
       "    <tr>\n",
       "      <th>2</th>\n",
       "      <td>searchResultPage</td>\n",
       "      <td>a</td>\n",
       "      <td>13.436984</td>\n",
       "      <td>NaN</td>\n",
       "      <td>57.057092</td>\n",
       "    </tr>\n",
       "    <tr>\n",
       "      <th>3</th>\n",
       "      <td>searchResultPage</td>\n",
       "      <td>b</td>\n",
       "      <td>12.737358</td>\n",
       "      <td>NaN</td>\n",
       "      <td>52.260131</td>\n",
       "    </tr>\n",
       "    <tr>\n",
       "      <th>4</th>\n",
       "      <td>visitPage</td>\n",
       "      <td>a</td>\n",
       "      <td>NaN</td>\n",
       "      <td>4.547751</td>\n",
       "      <td>13.114761</td>\n",
       "    </tr>\n",
       "    <tr>\n",
       "      <th>5</th>\n",
       "      <td>visitPage</td>\n",
       "      <td>b</td>\n",
       "      <td>NaN</td>\n",
       "      <td>1.971154</td>\n",
       "      <td>12.665782</td>\n",
       "    </tr>\n",
       "  </tbody>\n",
       "</table>\n",
       "</div>"
      ],
      "text/plain": [
       "             action group  n_results  result_position  delta_seconds\n",
       "0           checkin     a        NaN         3.108520      25.780375\n",
       "1           checkin     b        NaN         1.934195      31.420407\n",
       "2  searchResultPage     a  13.436984              NaN      57.057092\n",
       "3  searchResultPage     b  12.737358              NaN      52.260131\n",
       "4         visitPage     a        NaN         4.547751      13.114761\n",
       "5         visitPage     b        NaN         1.971154      12.665782"
      ]
     },
     "execution_count": 41,
     "metadata": {},
     "output_type": "execute_result"
    }
   ],
   "source": [
    "df_sorted.groupby([\"action\", \"group\"])[\"n_results\", \"result_position\", \"delta_seconds\"].mean().reset_index()"
   ]
  }
 ],
 "metadata": {
  "kernelspec": {
   "display_name": "Python 3",
   "language": "python",
   "name": "python3"
  },
  "language_info": {
   "codemirror_mode": {
    "name": "ipython",
    "version": 3
   },
   "file_extension": ".py",
   "mimetype": "text/x-python",
   "name": "python",
   "nbconvert_exporter": "python",
   "pygments_lexer": "ipython3",
   "version": "3.6.1"
  }
 },
 "nbformat": 4,
 "nbformat_minor": 2
}
